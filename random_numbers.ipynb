{
 "cells": [
  {
   "cell_type": "code",
   "execution_count": 1,
   "id": "b27ebff4",
   "metadata": {},
   "outputs": [],
   "source": [
    "import random"
   ]
  },
  {
   "cell_type": "code",
   "execution_count": 2,
   "id": "de074a34",
   "metadata": {},
   "outputs": [
    {
     "data": {
      "text/plain": [
       "0.8073765277459333"
      ]
     },
     "execution_count": 2,
     "metadata": {},
     "output_type": "execute_result"
    }
   ],
   "source": [
    "random.random()"
   ]
  },
  {
   "cell_type": "code",
   "execution_count": 10,
   "id": "40d3a165",
   "metadata": {},
   "outputs": [
    {
     "data": {
      "text/plain": [
       "-46"
      ]
     },
     "execution_count": 10,
     "metadata": {},
     "output_type": "execute_result"
    }
   ],
   "source": [
    "random.randint(-90,90)"
   ]
  },
  {
   "cell_type": "code",
   "execution_count": 11,
   "id": "96cc881d",
   "metadata": {},
   "outputs": [
    {
     "data": {
      "text/plain": [
       "-6.021202515829369"
      ]
     },
     "execution_count": 11,
     "metadata": {},
     "output_type": "execute_result"
    }
   ],
   "source": [
    "random_num=random.randint(-90,89)+random.random()\n",
    "random_num"
   ]
  },
  {
   "cell_type": "code",
   "execution_count": 13,
   "id": "f8dd95aa",
   "metadata": {},
   "outputs": [
    {
     "data": {
      "text/plain": [
       "[75.64081503250686,\n",
       " -81.13534090916387,\n",
       " -25.5520726512357,\n",
       " 33.425541503934646,\n",
       " -84.33863106268838,\n",
       " -88.61177404820803,\n",
       " 55.80584665809523,\n",
       " 43.21291838436751,\n",
       " -59.99944547937622,\n",
       " 47.99390689466559]"
      ]
     },
     "execution_count": 13,
     "metadata": {},
     "output_type": "execute_result"
    }
   ],
   "source": [
    "x = 1\n",
    "latitudes = []\n",
    "while x < 11:\n",
    "    random_lat = random.randint(-90, 89) + random.random()\n",
    "    latitudes.append(random_lat)\n",
    "    x += 1\n",
    "latitudes"
   ]
  },
  {
   "cell_type": "code",
   "execution_count": 16,
   "id": "dfa1c972",
   "metadata": {},
   "outputs": [
    {
     "data": {
      "text/plain": [
       "23"
      ]
     },
     "execution_count": 16,
     "metadata": {},
     "output_type": "execute_result"
    }
   ],
   "source": [
    "random.randrange(-90, 90, step=1)"
   ]
  },
  {
   "cell_type": "code",
   "execution_count": 18,
   "id": "45102ee8",
   "metadata": {},
   "outputs": [
    {
     "data": {
      "text/plain": [
       "-78"
      ]
     },
     "execution_count": 18,
     "metadata": {},
     "output_type": "execute_result"
    }
   ],
   "source": [
    "random.randrange(-90, 90, step=3)"
   ]
  },
  {
   "cell_type": "code",
   "execution_count": 19,
   "id": "812ee9ed",
   "metadata": {},
   "outputs": [
    {
     "data": {
      "text/plain": [
       "2.60084089973833"
      ]
     },
     "execution_count": 19,
     "metadata": {},
     "output_type": "execute_result"
    }
   ],
   "source": [
    "random.uniform(-90, 90)"
   ]
  },
  {
   "cell_type": "code",
   "execution_count": 20,
   "id": "1378a802",
   "metadata": {},
   "outputs": [],
   "source": [
    "# Import the NumPy module.\n",
    "import numpy as np"
   ]
  },
  {
   "cell_type": "code",
   "execution_count": 21,
   "id": "395ec92f",
   "metadata": {},
   "outputs": [
    {
     "data": {
      "text/plain": [
       "-15.638422978480506"
      ]
     },
     "execution_count": 21,
     "metadata": {},
     "output_type": "execute_result"
    }
   ],
   "source": [
    "np.random.uniform(-90.000, 90.000)"
   ]
  },
  {
   "cell_type": "code",
   "execution_count": 22,
   "id": "1defe300",
   "metadata": {},
   "outputs": [
    {
     "data": {
      "text/plain": [
       "-86.89432533465214"
      ]
     },
     "execution_count": 22,
     "metadata": {},
     "output_type": "execute_result"
    }
   ],
   "source": [
    "np.random.uniform(low=-90, high=90)"
   ]
  },
  {
   "cell_type": "code",
   "execution_count": 23,
   "id": "7219ca90",
   "metadata": {},
   "outputs": [
    {
     "data": {
      "text/plain": [
       "array([-23.59933026, -61.0787504 ,  83.62700212,  46.61737732,\n",
       "       -25.43665161,  79.03904307, -58.95400977,  58.61053127,\n",
       "        23.85606952,   9.4768846 ,  43.02694247,  43.99074467,\n",
       "       -84.7940632 ,  67.3009988 , -75.32054838,  35.22870503,\n",
       "       -82.12519075,  39.52878105, -60.99877613,  59.5803282 ,\n",
       "        47.48949538,  -8.84546727,   0.83853367,  62.42333462,\n",
       "       -88.03451252, -79.101652  , -44.65313634,  -6.4082769 ,\n",
       "        14.39179146,  68.1140028 , -17.44931338,  52.91341957,\n",
       "        24.18861264, -31.35286482, -13.12229113, -59.0299811 ,\n",
       "       -86.56222659,  22.4615132 ,  -5.17619857, -33.4872848 ,\n",
       "       -30.99540774,  85.51694082, -81.88974089,  -6.55750224,\n",
       "        83.74323416, -80.08746996, -26.47664389, -70.27799755,\n",
       "        45.03235786, -58.72982981])"
      ]
     },
     "execution_count": 23,
     "metadata": {},
     "output_type": "execute_result"
    }
   ],
   "source": [
    "np.random.uniform(-90.000, 90.000, size=50)"
   ]
  },
  {
   "cell_type": "code",
   "execution_count": 24,
   "id": "902f83b6",
   "metadata": {},
   "outputs": [],
   "source": [
    "# Import timeit.\n",
    "import timeit"
   ]
  },
  {
   "cell_type": "code",
   "execution_count": 25,
   "id": "322131de",
   "metadata": {},
   "outputs": [
    {
     "name": "stdout",
     "output_type": "stream",
     "text": [
      "16.6 µs ± 34.8 ns per loop (mean ± std. dev. of 7 runs, 100000 loops each)\n"
     ]
    }
   ],
   "source": [
    "%timeit np.random.uniform(-90.000, 90.000, size=1500)"
   ]
  },
  {
   "cell_type": "code",
   "execution_count": 26,
   "id": "5d5c10cc",
   "metadata": {},
   "outputs": [
    {
     "name": "stdout",
     "output_type": "stream",
     "text": [
      "1.14 ms ± 8.23 µs per loop (mean ± std. dev. of 7 runs, 1000 loops each)\n"
     ]
    }
   ],
   "source": [
    "def latitudes(size):\n",
    "    latitudes = []\n",
    "    x = 0\n",
    "    while x < (size):\n",
    "        random_lat = random.randint(-90, 90) + random.random()\n",
    "        latitudes.append(random_lat)\n",
    "        x += 1\n",
    "    return latitudes\n",
    "# Call the function with 1500.\n",
    "%timeit latitudes(1500)"
   ]
  },
  {
   "cell_type": "code",
   "execution_count": null,
   "id": "0676e1b4",
   "metadata": {},
   "outputs": [],
   "source": []
  }
 ],
 "metadata": {
  "kernelspec": {
   "display_name": "PythonData",
   "language": "python",
   "name": "pythondata"
  },
  "language_info": {
   "codemirror_mode": {
    "name": "ipython",
    "version": 3
   },
   "file_extension": ".py",
   "mimetype": "text/x-python",
   "name": "python",
   "nbconvert_exporter": "python",
   "pygments_lexer": "ipython3",
   "version": "3.8.8"
  }
 },
 "nbformat": 4,
 "nbformat_minor": 5
}
